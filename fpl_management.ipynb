{
  "nbformat": 4,
  "nbformat_minor": 0,
  "metadata": {
    "colab": {
      "provenance": []
    },
    "kernelspec": {
      "name": "python3",
      "display_name": "Python 3"
    },
    "language_info": {
      "name": "python"
    }
  },
  "cells": [
    {
      "cell_type": "code",
      "execution_count": null,
      "metadata": {
        "colab": {
          "base_uri": "https://localhost:8080/"
        },
        "id": "A7HX2P6joAcB",
        "outputId": "c6b54b18-b94c-4524-ef47-9f82dcbdb5b6"
      },
      "outputs": [
        {
          "output_type": "stream",
          "name": "stdout",
          "text": [
            "200\n"
          ]
        }
      ],
      "source": [
        "import requests\n",
        "session = requests.session()\n",
        "headers={\"User-Agent\": \"Dalvik/2.1.0 (Linux; U; Android 5.1; PRO 5 Build/LMY47D)\", 'accept-language': 'en'}\n",
        "\n",
        "\n",
        "url = 'https://users.premierleague.com/accounts/login/'\n",
        "payload = {\n",
        " 'password': '@Fantasy2024',\n",
        " 'login': 'oyomworld@gmail.com',\n",
        " 'redirect_uri': 'https://fantasy.premierleague.com/a/login',\n",
        " 'app': 'plfpl-web'\n",
        "}\n",
        "res=session.post(url, data=payload,headers=headers)\n",
        "print(res.status_code)"
      ]
    },
    {
      "cell_type": "code",
      "source": [
        "response = session.get('https://fantasy.premierleague.com/api/me')\n",
        "print(response.text)"
      ],
      "metadata": {
        "colab": {
          "base_uri": "https://localhost:8080/"
        },
        "id": "CIs6yueuqS6r",
        "outputId": "4448477b-3241-4486-9ddc-0b0fbec37e82"
      },
      "execution_count": null,
      "outputs": [
        {
          "output_type": "stream",
          "name": "stdout",
          "text": [
            "{\"player\":{\"date_of_birth\":\"1990-11-04\",\"default_event\":1,\"dirty\":false,\"first_name\":\"Ikechukwu\",\"gender\":\"M\",\"id\":45051297,\"last_name\":\"OYOM\",\"region\":157,\"email\":\"oyomworld@gmail.com\",\"entry\":5037001,\"entry_email\":false,\"entry_language\":null},\"watched\":[]}\n"
          ]
        }
      ]
    },
    {
      "cell_type": "code",
      "source": [
        "response = session.get('https://fantasy.premierleague.com/api/my-team/5037001')\n",
        "print(response.json())"
      ],
      "metadata": {
        "colab": {
          "base_uri": "https://localhost:8080/"
        },
        "id": "CfxbCzlfu3Ym",
        "outputId": "5771f224-f8aa-44fd-f516-fb0e0769581f"
      },
      "execution_count": null,
      "outputs": [
        {
          "output_type": "stream",
          "name": "stdout",
          "text": [
            "{'picks': [{'element': 235, 'position': 1, 'selling_price': 50, 'multiplier': 1, 'purchase_price': 50, 'is_captain': False, 'is_vice_captain': False}, {'element': 231, 'position': 2, 'selling_price': 45, 'multiplier': 1, 'purchase_price': 45, 'is_captain': False, 'is_vice_captain': False}, {'element': 350, 'position': 3, 'selling_price': 60, 'multiplier': 1, 'purchase_price': 60, 'is_captain': False, 'is_vice_captain': False}, {'element': 311, 'position': 4, 'selling_price': 70, 'multiplier': 1, 'purchase_price': 70, 'is_captain': False, 'is_vice_captain': False}, {'element': 434, 'position': 5, 'selling_price': 55, 'multiplier': 1, 'purchase_price': 55, 'is_captain': False, 'is_vice_captain': False}, {'element': 525, 'position': 6, 'selling_price': 65, 'multiplier': 1, 'purchase_price': 65, 'is_captain': False, 'is_vice_captain': False}, {'element': 328, 'position': 7, 'selling_price': 125, 'multiplier': 1, 'purchase_price': 125, 'is_captain': False, 'is_vice_captain': False}, {'element': 181, 'position': 8, 'selling_price': 65, 'multiplier': 1, 'purchase_price': 65, 'is_captain': False, 'is_vice_captain': False}, {'element': 401, 'position': 9, 'selling_price': 85, 'multiplier': 1, 'purchase_price': 85, 'is_captain': False, 'is_vice_captain': True}, {'element': 351, 'position': 10, 'selling_price': 150, 'multiplier': 2, 'purchase_price': 150, 'is_captain': True, 'is_vice_captain': False}, {'element': 251, 'position': 11, 'selling_price': 60, 'multiplier': 1, 'purchase_price': 60, 'is_captain': False, 'is_vice_captain': False}, {'element': 445, 'position': 12, 'selling_price': 40, 'multiplier': 0, 'purchase_price': 40, 'is_captain': False, 'is_vice_captain': False}, {'element': 33, 'position': 13, 'selling_price': 45, 'multiplier': 0, 'purchase_price': 45, 'is_captain': False, 'is_vice_captain': False}, {'element': 425, 'position': 14, 'selling_price': 45, 'multiplier': 0, 'purchase_price': 45, 'is_captain': False, 'is_vice_captain': False}, {'element': 275, 'position': 15, 'selling_price': 40, 'multiplier': 0, 'purchase_price': 40, 'is_captain': False, 'is_vice_captain': False}], 'picks_last_updated': '2024-08-16T13:43:44.914211Z', 'chips': [{'status_for_entry': 'available', 'played_by_entry': [], 'name': 'bboost', 'number': 1, 'start_event': 1, 'stop_event': 38, 'chip_type': 'team', 'is_pending': False}, {'status_for_entry': 'available', 'played_by_entry': [], 'name': '3xc', 'number': 1, 'start_event': 1, 'stop_event': 38, 'chip_type': 'team', 'is_pending': False}], 'transfers': {'cost': 4, 'status': 'unlimited', 'limit': None, 'made': 0, 'bank': 0, 'value': 1000}}\n"
          ]
        }
      ]
    },
    {
      "cell_type": "code",
      "source": [
        "import requests\n",
        "session = requests.session()\n",
        "headers={\"User-Agent\": \"Dalvik/2.1.0 (Linux; U; Android 5.1; PRO 5 Build/LMY47D)\", 'accept-language': 'en'}\n",
        "\n",
        "\n",
        "def authenticate():\n",
        "\n",
        "    url = 'https://users.premierleague.com/accounts/login/'\n",
        "    payload = {\n",
        "    'password': '@Fantasy2024',\n",
        "    'login': 'oyomworld@gmail.com',\n",
        "    'redirect_uri': 'https://fantasy.premierleague.com/a/login',\n",
        "    'app': 'plfpl-web'\n",
        "    }\n",
        "    response=session.post(url, data=payload,headers=headers)\n",
        "    if response.status_code ==200:\n",
        "        selected_player = session.get('https://fantasy.premierleague.com/api/my-team/5037001')\n",
        "        print(selected_player)\n",
        "\n",
        "        return selected_player.json()\n",
        "\n",
        "\n",
        "picks=authenticate()\n"
      ],
      "metadata": {
        "colab": {
          "base_uri": "https://localhost:8080/"
        },
        "id": "_kMZ5U8Yu3bl",
        "outputId": "2fb9ac33-68b5-41dc-f4b7-981626bc3dbc"
      },
      "execution_count": null,
      "outputs": [
        {
          "output_type": "stream",
          "name": "stdout",
          "text": [
            "<Response [200]>\n"
          ]
        }
      ]
    },
    {
      "cell_type": "code",
      "source": [
        "def  map_selected_picks(picks,players):\n",
        "        picked_players = []\n",
        "        for pick in picks:\n",
        "            # Find the player with the matching id\n",
        "            player = next((player for player in players if player[\"id\"] == pick[\"element\"]), None)\n",
        "            if player:\n",
        "                picked_players.append(player)\n",
        "\n",
        "        return picked_players"
      ],
      "metadata": {
        "id": "4zDPtbCu8w7q"
      },
      "execution_count": null,
      "outputs": []
    },
    {
      "cell_type": "code",
      "source": [
        "all_players=session.get('https://fantasy.premierleague.com/api/bootstrap-static/')\n",
        "all_players=all_players.json()"
      ],
      "metadata": {
        "id": "EGZCHq0x85vB"
      },
      "execution_count": null,
      "outputs": []
    },
    {
      "cell_type": "code",
      "source": [
        "current_team=map_selected_picks(picks=picks['picks'],players=all_players['elements'])"
      ],
      "metadata": {
        "id": "zuwMqaQ-85lI"
      },
      "execution_count": null,
      "outputs": []
    },
    {
      "cell_type": "code",
      "source": [
        "def select_captain(players):\n",
        "    def calculate_captain_score(player):\n",
        "        # Criteria 1: Form (weight 30%)\n",
        "        form_score = float(player['form']) * 0.3\n",
        "\n",
        "        # Criteria 2: Fixture Difficulty (weight 25%)\n",
        "        fixture_difficulty_score = 1 / (player['opponent_difficulty']) * 0.25 if 'opponent_difficulty' in player else 0\n",
        "\n",
        "        # Criteria 3: Expected Minutes (weight 20%)\n",
        "        minutes_score = (player['minutes'] / 90) * 0.2\n",
        "\n",
        "        # Criteria 4: Set Piece Duties (weight 10%)\n",
        "        set_piece_score = 0.1 if player['penalties_order'] else 0\n",
        "\n",
        "        # Criteria 5: ICT Index (weight 10%)\n",
        "        ict_index_score = float(player['ict_index']) * 0.2\n",
        "\n",
        "        # Total Captain Score\n",
        "        total_score = form_score + fixture_difficulty_score + minutes_score + set_piece_score + ict_index_score\n",
        "        return total_score\n",
        "\n",
        "    # Iterate through players and calculate their captain score\n",
        "    captain_scores = []\n",
        "    for player in players:\n",
        "        score = calculate_captain_score(player)\n",
        "        captain_scores.append((player['web_name'], score))\n",
        "\n",
        "    # Select player with the highest score\n",
        "    captain_scores.sort(key=lambda x: x[1], reverse=True)\n",
        "    best_captain = captain_scores[:3]\n",
        "\n",
        "    return best_captain"
      ],
      "metadata": {
        "id": "aDmC9uTY9JMQ"
      },
      "execution_count": null,
      "outputs": []
    },
    {
      "cell_type": "code",
      "source": [
        "best_captain = select_captain(current_team)\n",
        "print(best_captain)"
      ],
      "metadata": {
        "colab": {
          "base_uri": "https://localhost:8080/"
        },
        "id": "wWvs_Wiz_lBm",
        "outputId": "8e70e0a1-c3a8-429e-9b96-95b8e4bdea4d"
      },
      "execution_count": null,
      "outputs": [
        {
          "output_type": "stream",
          "name": "stdout",
          "text": [
            "[('M.Salah', 74.92444444444445), ('Haaland', 66.43333333333334), ('Isak', 50.966666666666676)]\n"
          ]
        }
      ]
    },
    {
      "cell_type": "code",
      "source": [
        "def suggest_transfers_out(players, budget, max_transfers=7):\n",
        "    transfers_out = []\n",
        "\n",
        "    for player in players:\n",
        "        # Criteria 1: Low Form\n",
        "        if float(player['form']) < 2.0:\n",
        "            transfers_out.append(player)\n",
        "            continue\n",
        "\n",
        "        # Criteria 2: Injury or Suspension\n",
        "        if player['status'] in ['d', 'i', 's']:\n",
        "            transfers_out.append(player)\n",
        "            continue\n",
        "\n",
        "        # Criteria 3: Lack of Minutes\n",
        "        if player['minutes'] < 90:\n",
        "            transfers_out.append(player)\n",
        "            continue\n",
        "\n",
        "        # Criteria 4: Fixture Difficulty\n",
        "        if 'upcoming_fixtures' in player:\n",
        "            avg_difficulty = sum(player['upcoming_fixtures']) / len(player['upcoming_fixtures'])\n",
        "            if avg_difficulty > 3.5:  # Assume difficulty is rated 1-5\n",
        "                transfers_out.append(player)\n",
        "                continue\n",
        "\n",
        "        # Criteria 5: Ownership and Value\n",
        "        if float(player['selected_by_percent']) < 5.0 and player['now_cost'] > 70:\n",
        "            transfers_out.append(player)\n",
        "\n",
        "    # Ensure we don't exceed the maximum number of transfers\n",
        "    transfers_out = sorted(transfers_out, key=lambda x: float(x['form']))[:max_transfers]\n",
        "\n",
        "    return transfers_out\n",
        "\n",
        "\n",
        "# Suggest players to transfer out\n",
        "budget = 1000  # Example budget\n",
        "transfers_out = suggest_transfers_out(current_team, budget)\n",
        "\n",
        "print(\"Players to consider transferring out:\")\n",
        "for player in transfers_out:\n",
        "    print(f\"{player['web_name']} - Form: {player['form']}, Status: {player['status']}, Minutes: {player['minutes']}, Cost: {player['now_cost']}\")\n"
      ],
      "metadata": {
        "colab": {
          "base_uri": "https://localhost:8080/"
        },
        "id": "9H_rfMRgCN1g",
        "outputId": "75658db5-048c-4a8a-a060-554171115be2"
      },
      "execution_count": null,
      "outputs": [
        {
          "output_type": "stream",
          "name": "stdout",
          "text": [
            "Players to consider transferring out:\n",
            "Pickford - Form: 0.0, Status: a, Minutes: 3420, Cost: 50\n",
            "Mykolenko - Form: 0.0, Status: a, Minutes: 2469, Cost: 45\n",
            "Gvardiol - Form: 0.0, Status: a, Minutes: 2327, Cost: 60\n",
            "Alexander-Arnold - Form: 0.0, Status: a, Minutes: 2153, Cost: 70\n",
            "Hudson-Odoi - Form: 0.0, Status: a, Minutes: 1846, Cost: 55\n",
            "Kudus - Form: 0.0, Status: a, Minutes: 2485, Cost: 65\n",
            "M.Salah - Form: 0.0, Status: a, Minutes: 2531, Cost: 125\n"
          ]
        }
      ]
    },
    {
      "cell_type": "code",
      "source": [
        "def identify_transfer_out(picks, players):\n",
        "    transfer_out_candidates = []\n",
        "\n",
        "    for pick in picks:\n",
        "        player = next((p for p in players if p['id'] == pick['element']), None)\n",
        "\n",
        "        if player:\n",
        "            # Criteria to identify players to transfer out\n",
        "            if float(player['form']) < 2.0 or player['status'] != 'a' or sum(player['upcoming_fixtures']) > 10:\n",
        "                transfer_out_candidates.append(player)\n",
        "\n",
        "    return transfer_out_candidates\n",
        "\n",
        "def suggest_replacements(players_out, available_players, budget_remaining):\n",
        "    replacements = []\n",
        "\n",
        "    for player_out in players_out:\n",
        "        # Filter available players by position\n",
        "        possible_replacements = [p for p in available_players if p['element_type'] == player_out['element_type']]\n",
        "\n",
        "        # Further filter by affordability\n",
        "        possible_replacements = [p for p in possible_replacements if p['now_cost'] <= budget_remaining + player_out['now_cost']]\n",
        "\n",
        "        # Sort by form, then by fixture difficulty\n",
        "        possible_replacements = sorted(possible_replacements, key=lambda p: (-float(p['form']), sum(p['upcoming_fixtures'])))\n",
        "\n",
        "        # Pick the top candidate\n",
        "        if possible_replacements:\n",
        "            replacements.append(possible_replacements[0])\n",
        "\n",
        "    return replacements\n",
        "\n",
        "def transfer_suggestions(picks, players, available_players, budget_remaining):\n",
        "    # Identify players to transfer out\n",
        "    players_out = identify_transfer_out(picks, players)\n",
        "\n",
        "    # Suggest replacements for those players\n",
        "    replacements = suggest_replacements(players_out, available_players, budget_remaining)\n",
        "\n",
        "    return list(zip(players_out, replacements))\n",
        "\n",
        "# Example data\n",
        "picks = [\n",
        "    {'element': 1, 'position': 1, 'selling_price': 50, 'multiplier': 1, 'purchase_price': 50, 'is_captain': False, 'is_vice_captain': False},\n",
        "    {'element': 2, 'position': 2, 'selling_price': 45, 'multiplier': 1, 'purchase_price': 45, 'is_captain': False, 'is_vice_captain': False},\n",
        "]\n",
        "\n",
        "players = [\n",
        "    {\n",
        "        \"id\": 1,\n",
        "        \"element_type\": 3,\n",
        "        \"web_name\": \"Fábio Vieira\",\n",
        "        \"form\": \"0.0\",\n",
        "        \"now_cost\": 55,\n",
        "        \"status\": \"d\",\n",
        "        \"upcoming_fixtures\": [4, 4, 5]\n",
        "    },\n",
        "    {\n",
        "        \"id\": 2,\n",
        "        \"element_type\": 4,\n",
        "        \"web_name\": \"G. Jesus\",\n",
        "        \"form\": \"0.0\",\n",
        "        \"now_cost\": 70,\n",
        "        \"status\": \"a\",\n",
        "        \"upcoming_fixtures\": [4, 4, 5]\n",
        "    }\n",
        "]\n",
        "\n",
        "available_players = [\n",
        "    {\"web_name\": \"Saka\", \"form\": \"9.0\", \"element_type\": 3, \"now_cost\": 80, \"upcoming_fixtures\": [2, 2, 2]},\n",
        "    {\"web_name\": \"Martinelli\", \"form\": \"7.0\", \"element_type\": 3, \"now_cost\": 75, \"upcoming_fixtures\": [2, 3, 3]},\n",
        "    {\"web_name\": \"Maddison\", \"form\": \"8.5\", \"element_type\": 3, \"now_cost\": 85, \"upcoming_fixtures\": [3, 3, 2]},\n",
        "    {\"web_name\": \"Wilson\", \"form\": \"7.0\", \"element_type\": 4, \"now_cost\": 75, \"upcoming_fixtures\": [2, 4, 2]},\n",
        "    {\"web_name\": \"Isak\", \"form\": \"8.0\", \"element_type\": 4, \"now_cost\": 70, \"upcoming_fixtures\": [2, 2, 1]},\n",
        "    {\"web_name\": \"Son\", \"form\": \"10.0\", \"element_type\": 3, \"now_cost\": 100, \"upcoming_fixtures\": [2, 2, 2]},\n",
        "]\n",
        "\n",
        "# Budget remaining after transfers out (example)\n",
        "budget_remaining = 100  # Example budget remaining\n",
        "\n",
        "# Get transfer suggestions\n",
        "suggestions = transfer_suggestions(picks, players, available_players, budget_remaining)\n",
        "\n",
        "print(\"Transfer Suggestions:\")\n",
        "for player_out, replacement in suggestions:\n",
        "    print(f\"Transfer Out: {player_out['web_name']} (Form: {player_out['form']}, Cost: {player_out['now_cost']})\")\n",
        "    print(f\"Replacement: {replacement['web_name']} (Form: {replacement['form']}, Cost: {replacement['now_cost']})\")\n",
        "    print(\"---\")\n"
      ],
      "metadata": {
        "colab": {
          "base_uri": "https://localhost:8080/"
        },
        "id": "Re0NjuxeC3DR",
        "outputId": "513a63ad-60db-41b0-d1d5-80ee1facb783"
      },
      "execution_count": null,
      "outputs": [
        {
          "output_type": "stream",
          "name": "stdout",
          "text": [
            "Transfer Suggestions:\n",
            "Transfer Out: Fábio Vieira (Form: 0.0, Cost: 55)\n",
            "Replacement: Son (Form: 10.0, Cost: 100)\n",
            "---\n",
            "Transfer Out: G. Jesus (Form: 0.0, Cost: 70)\n",
            "Replacement: Isak (Form: 8.0, Cost: 70)\n",
            "---\n"
          ]
        }
      ]
    },
    {
      "cell_type": "code",
      "source": [
        "def identify_transfer_out(picks, players):\n",
        "    transfer_out_candidates = []\n",
        "\n",
        "    for pick in picks:\n",
        "        player = next((p for p in players if p['id'] == pick['element']), None)\n",
        "\n",
        "        if player:\n",
        "            # Criteria to identify players to transfer out\n",
        "            if float(player['form']) < 2.0 or player['status'] != 'a' or sum(player['upcoming_fixtures']) > 10:\n",
        "                transfer_out_candidates.append(player)\n",
        "\n",
        "    return transfer_out_candidates\n",
        "\n",
        "def suggest_replacements(players_out, available_players, budget_remaining):\n",
        "    replacements = []\n",
        "\n",
        "    for player_out in players_out:\n",
        "        # Filter available players by position\n",
        "        possible_replacements = [p for p in available_players if p['element_type'] == player_out['element_type']]\n",
        "\n",
        "        # Further filter by affordability\n",
        "        affordable_replacements = [p for p in possible_replacements if p['now_cost'] <= budget_remaining + player_out['now_cost']]\n",
        "\n",
        "        # Sort by form, then by fixture difficulty\n",
        "        affordable_replacements = sorted(affordable_replacements, key=lambda p: (-float(p['form']), sum(p['upcoming_fixtures'])))\n",
        "\n",
        "        # Pick the top candidate\n",
        "        if affordable_replacements:\n",
        "            best_replacement = affordable_replacements[0]\n",
        "            budget_remaining += player_out['now_cost'] - best_replacement['now_cost']\n",
        "            replacements.append((player_out, best_replacement, budget_remaining))\n",
        "\n",
        "    return replacements, budget_remaining\n",
        "\n",
        "def transfer_suggestions(picks, players, available_players, initial_budget):\n",
        "    budget_remaining = initial_budget\n",
        "\n",
        "    # Identify players to transfer out\n",
        "    players_out = identify_transfer_out(picks, players)\n",
        "\n",
        "    # Suggest replacements for those players and update the budget\n",
        "    replacements, final_budget = suggest_replacements(players_out, available_players, budget_remaining)\n",
        "\n",
        "    return replacements, final_budget\n",
        "\n",
        "# Example data\n",
        "picks = [\n",
        "    {'element': 1, 'position': 1, 'selling_price': 50, 'multiplier': 1, 'purchase_price': 50, 'is_captain': False, 'is_vice_captain': False},\n",
        "    {'element': 2, 'position': 2, 'selling_price': 45, 'multiplier': 1, 'purchase_price': 45, 'is_captain': False, 'is_vice_captain': False},\n",
        "]\n",
        "\n",
        "players = [\n",
        "    {\n",
        "        \"id\": 1,\n",
        "        \"element_type\": 3,\n",
        "        \"web_name\": \"Fábio Vieira\",\n",
        "        \"form\": \"0.0\",\n",
        "        \"now_cost\": 55,\n",
        "        \"status\": \"d\",\n",
        "        \"upcoming_fixtures\": [4, 4, 5]\n",
        "    },\n",
        "    {\n",
        "        \"id\": 2,\n",
        "        \"element_type\": 4,\n",
        "        \"web_name\": \"G. Jesus\",\n",
        "        \"form\": \"0.0\",\n",
        "        \"now_cost\": 70,\n",
        "        \"status\": \"a\",\n",
        "        \"upcoming_fixtures\": [4, 4, 5]\n",
        "    }\n",
        "]\n",
        "\n",
        "available_players = [\n",
        "    {\"web_name\": \"Saka\", \"form\": \"9.0\", \"element_type\": 3, \"now_cost\": 80, \"upcoming_fixtures\": [2, 2, 2]},\n",
        "    {\"web_name\": \"Martinelli\", \"form\": \"7.0\", \"element_type\": 3, \"now_cost\": 75, \"upcoming_fixtures\": [2, 3, 3]},\n",
        "    {\"web_name\": \"Maddison\", \"form\": \"8.5\", \"element_type\": 3, \"now_cost\": 85, \"upcoming_fixtures\": [3, 3, 2]},\n",
        "    {\"web_name\": \"Wilson\", \"form\": \"7.0\", \"element_type\": 4, \"now_cost\": 75, \"upcoming_fixtures\": [2, 4, 2]},\n",
        "    {\"web_name\": \"Isak\", \"form\": \"8.0\", \"element_type\": 4, \"now_cost\": 70, \"upcoming_fixtures\": [2, 2, 1]},\n",
        "    {\"web_name\": \"Son\", \"form\": \"10.0\", \"element_type\": 3, \"now_cost\": 100, \"upcoming_fixtures\": [2, 2, 2]},\n",
        "]\n",
        "\n",
        "# Initial budget remaining after transfers out\n",
        "initial_budget = 100  # Example budget remaining\n",
        "\n",
        "# Get transfer suggestions\n",
        "suggestions, final_budget = transfer_suggestions(picks, players, available_players, initial_budget)\n",
        "\n",
        "print(\"Transfer Suggestions:\")\n",
        "for player_out, replacement, budget in suggestions:\n",
        "    print(f\"Transfer Out: {player_out['web_name']} (Form: {player_out['form']}, Cost: {player_out['now_cost']})\")\n",
        "    print(f\"Replacement: {replacement['web_name']} (Form: {replacement['form']}, Cost: {replacement['now_cost']})\")\n",
        "    print(f\"Remaining Budget After Transfer: {budget}\")\n",
        "    print(\"---\")\n",
        "\n",
        "print(f\"Final Budget After All Transfers: {final_budget}\")\n"
      ],
      "metadata": {
        "colab": {
          "base_uri": "https://localhost:8080/"
        },
        "id": "YCkApjfMEufV",
        "outputId": "e69f7b60-900e-4fe0-c054-d073e713207a"
      },
      "execution_count": null,
      "outputs": [
        {
          "output_type": "stream",
          "name": "stdout",
          "text": [
            "Transfer Suggestions:\n",
            "Transfer Out: Fábio Vieira (Form: 0.0, Cost: 55)\n",
            "Replacement: Son (Form: 10.0, Cost: 100)\n",
            "Remaining Budget After Transfer: 55\n",
            "---\n",
            "Transfer Out: G. Jesus (Form: 0.0, Cost: 70)\n",
            "Replacement: Isak (Form: 8.0, Cost: 70)\n",
            "Remaining Budget After Transfer: 55\n",
            "---\n",
            "Final Budget After All Transfers: 55\n"
          ]
        }
      ]
    }
  ]
}