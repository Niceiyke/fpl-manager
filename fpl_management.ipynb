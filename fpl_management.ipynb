{
  "cells": [
    {
      "cell_type": "code",
      "execution_count": 7,
      "metadata": {
        "colab": {
          "base_uri": "https://localhost:8080/"
        },
        "id": "_kMZ5U8Yu3bl",
        "outputId": "2fb9ac33-68b5-41dc-f4b7-981626bc3dbc"
      },
      "outputs": [
        {
          "name": "stdout",
          "output_type": "stream",
          "text": [
            "<Response [200]>\n"
          ]
        },
        {
          "data": {
            "text/plain": [
              "{'picks': [{'element': 201,\n",
              "   'position': 1,\n",
              "   'selling_price': 45,\n",
              "   'multiplier': 1,\n",
              "   'purchase_price': 45,\n",
              "   'is_captain': False,\n",
              "   'is_vice_captain': False},\n",
              "  {'element': 425,\n",
              "   'position': 2,\n",
              "   'selling_price': 45,\n",
              "   'multiplier': 1,\n",
              "   'purchase_price': 45,\n",
              "   'is_captain': False,\n",
              "   'is_vice_captain': False},\n",
              "  {'element': 350,\n",
              "   'position': 3,\n",
              "   'selling_price': 60,\n",
              "   'multiplier': 1,\n",
              "   'purchase_price': 60,\n",
              "   'is_captain': False,\n",
              "   'is_vice_captain': False},\n",
              "  {'element': 311,\n",
              "   'position': 4,\n",
              "   'selling_price': 70,\n",
              "   'multiplier': 1,\n",
              "   'purchase_price': 70,\n",
              "   'is_captain': False,\n",
              "   'is_vice_captain': False},\n",
              "  {'element': 434,\n",
              "   'position': 5,\n",
              "   'selling_price': 55,\n",
              "   'multiplier': 1,\n",
              "   'purchase_price': 55,\n",
              "   'is_captain': False,\n",
              "   'is_vice_captain': False},\n",
              "  {'element': 317,\n",
              "   'position': 6,\n",
              "   'selling_price': 75,\n",
              "   'multiplier': 1,\n",
              "   'purchase_price': 75,\n",
              "   'is_captain': False,\n",
              "   'is_vice_captain': False},\n",
              "  {'element': 328,\n",
              "   'position': 7,\n",
              "   'selling_price': 125,\n",
              "   'multiplier': 1,\n",
              "   'purchase_price': 125,\n",
              "   'is_captain': False,\n",
              "   'is_vice_captain': True},\n",
              "  {'element': 19,\n",
              "   'position': 8,\n",
              "   'selling_price': 55,\n",
              "   'multiplier': 1,\n",
              "   'purchase_price': 55,\n",
              "   'is_captain': False,\n",
              "   'is_vice_captain': False},\n",
              "  {'element': 401,\n",
              "   'position': 9,\n",
              "   'selling_price': 85,\n",
              "   'multiplier': 1,\n",
              "   'purchase_price': 85,\n",
              "   'is_captain': False,\n",
              "   'is_vice_captain': False},\n",
              "  {'element': 351,\n",
              "   'position': 10,\n",
              "   'selling_price': 150,\n",
              "   'multiplier': 2,\n",
              "   'purchase_price': 150,\n",
              "   'is_captain': True,\n",
              "   'is_vice_captain': False},\n",
              "  {'element': 251,\n",
              "   'position': 11,\n",
              "   'selling_price': 60,\n",
              "   'multiplier': 1,\n",
              "   'purchase_price': 60,\n",
              "   'is_captain': False,\n",
              "   'is_vice_captain': False},\n",
              "  {'element': 445,\n",
              "   'position': 12,\n",
              "   'selling_price': 40,\n",
              "   'multiplier': 0,\n",
              "   'purchase_price': 40,\n",
              "   'is_captain': False,\n",
              "   'is_vice_captain': False},\n",
              "  {'element': 231,\n",
              "   'position': 13,\n",
              "   'selling_price': 45,\n",
              "   'multiplier': 0,\n",
              "   'purchase_price': 45,\n",
              "   'is_captain': False,\n",
              "   'is_vice_captain': False},\n",
              "  {'element': 33,\n",
              "   'position': 14,\n",
              "   'selling_price': 45,\n",
              "   'multiplier': 0,\n",
              "   'purchase_price': 45,\n",
              "   'is_captain': False,\n",
              "   'is_vice_captain': False},\n",
              "  {'element': 275,\n",
              "   'position': 15,\n",
              "   'selling_price': 40,\n",
              "   'multiplier': 0,\n",
              "   'purchase_price': 40,\n",
              "   'is_captain': False,\n",
              "   'is_vice_captain': False}],\n",
              " 'picks_last_updated': '2024-08-22T13:36:54.610325Z',\n",
              " 'chips': [{'status_for_entry': 'available',\n",
              "   'played_by_entry': [],\n",
              "   'name': 'bboost',\n",
              "   'number': 1,\n",
              "   'start_event': 1,\n",
              "   'stop_event': 38,\n",
              "   'chip_type': 'team',\n",
              "   'is_pending': False},\n",
              "  {'status_for_entry': 'available',\n",
              "   'played_by_entry': [],\n",
              "   'name': '3xc',\n",
              "   'number': 1,\n",
              "   'start_event': 1,\n",
              "   'stop_event': 38,\n",
              "   'chip_type': 'team',\n",
              "   'is_pending': False},\n",
              "  {'status_for_entry': 'available',\n",
              "   'played_by_entry': [],\n",
              "   'name': 'wildcard',\n",
              "   'number': 1,\n",
              "   'start_event': 2,\n",
              "   'stop_event': 19,\n",
              "   'chip_type': 'transfer',\n",
              "   'is_pending': False},\n",
              "  {'status_for_entry': 'available',\n",
              "   'played_by_entry': [],\n",
              "   'name': 'freehit',\n",
              "   'number': 1,\n",
              "   'start_event': 2,\n",
              "   'stop_event': 38,\n",
              "   'chip_type': 'transfer',\n",
              "   'is_pending': False}],\n",
              " 'transfers': {'cost': 4,\n",
              "  'status': 'cost',\n",
              "  'limit': 1,\n",
              "  'made': 3,\n",
              "  'bank': 5,\n",
              "  'value': 995}}"
            ]
          },
          "execution_count": 7,
          "metadata": {},
          "output_type": "execute_result"
        }
      ],
      "source": [
        "import requests\n",
        "session = requests.session()\n",
        "headers={\"User-Agent\": \"Dalvik/2.1.0 (Linux; U; Android 5.1; PRO 5 Build/LMY47D)\", 'accept-language': 'en'}\n",
        "\n",
        "\n",
        "def authenticate():\n",
        "\n",
        "    url = 'https://users.premierleague.com/accounts/login/'\n",
        "    payload = {\n",
        "    'password': '@Fantasy2024',\n",
        "    'login': 'oyomworld@gmail.com',\n",
        "    'redirect_uri': 'https://fantasy.premierleague.com/a/login',\n",
        "    'app': 'plfpl-web'\n",
        "    }\n",
        "    response=session.post(url, data=payload,headers=headers)\n",
        "    if response.status_code ==200:\n",
        "        selected_player = session.get('https://fantasy.premierleague.com/api/my-team/5037001')\n",
        "        print(selected_player)\n",
        "\n",
        "        return selected_player.json()\n",
        "\n",
        "\n",
        "picks=authenticate()\n",
        "picks\n"
      ]
    },
    {
      "cell_type": "code",
      "execution_count": 6,
      "metadata": {},
      "outputs": [
        {
          "data": {
            "text/plain": [
              "<Response [404]>"
            ]
          },
          "execution_count": 6,
          "metadata": {},
          "output_type": "execute_result"
        }
      ],
      "source": [
        "selected_player = session.get('https://fantasy.premierleague.com/api/my-team/4037011')\n",
        "selected_player"
      ]
    },
    {
      "cell_type": "code",
      "execution_count": 11,
      "metadata": {},
      "outputs": [
        {
          "data": {
            "text/plain": [
              "{'cost': 4, 'status': 'cost', 'limit': 1, 'made': 0, 'bank': 0, 'value': 1000}"
            ]
          },
          "execution_count": 11,
          "metadata": {},
          "output_type": "execute_result"
        }
      ],
      "source": [
        "picks['transfers']"
      ]
    },
    {
      "cell_type": "code",
      "execution_count": 12,
      "metadata": {},
      "outputs": [
        {
          "ename": "ConnectionError",
          "evalue": "('Connection aborted.', RemoteDisconnected('Remote end closed connection without response'))",
          "output_type": "error",
          "traceback": [
            "\u001b[1;31m---------------------------------------------------------------------------\u001b[0m",
            "\u001b[1;31mRemoteDisconnected\u001b[0m                        Traceback (most recent call last)",
            "File \u001b[1;32mc:\\Users\\iyked\\Documents\\WORK_FOLDER\\fpl-manager\\venv\\Lib\\site-packages\\urllib3\\connectionpool.py:789\u001b[0m, in \u001b[0;36mHTTPConnectionPool.urlopen\u001b[1;34m(self, method, url, body, headers, retries, redirect, assert_same_host, timeout, pool_timeout, release_conn, chunked, body_pos, preload_content, decode_content, **response_kw)\u001b[0m\n\u001b[0;32m    788\u001b[0m \u001b[38;5;66;03m# Make the request on the HTTPConnection object\u001b[39;00m\n\u001b[1;32m--> 789\u001b[0m response \u001b[38;5;241m=\u001b[39m \u001b[38;5;28;43mself\u001b[39;49m\u001b[38;5;241;43m.\u001b[39;49m\u001b[43m_make_request\u001b[49m\u001b[43m(\u001b[49m\n\u001b[0;32m    790\u001b[0m \u001b[43m    \u001b[49m\u001b[43mconn\u001b[49m\u001b[43m,\u001b[49m\n\u001b[0;32m    791\u001b[0m \u001b[43m    \u001b[49m\u001b[43mmethod\u001b[49m\u001b[43m,\u001b[49m\n\u001b[0;32m    792\u001b[0m \u001b[43m    \u001b[49m\u001b[43murl\u001b[49m\u001b[43m,\u001b[49m\n\u001b[0;32m    793\u001b[0m \u001b[43m    \u001b[49m\u001b[43mtimeout\u001b[49m\u001b[38;5;241;43m=\u001b[39;49m\u001b[43mtimeout_obj\u001b[49m\u001b[43m,\u001b[49m\n\u001b[0;32m    794\u001b[0m \u001b[43m    \u001b[49m\u001b[43mbody\u001b[49m\u001b[38;5;241;43m=\u001b[39;49m\u001b[43mbody\u001b[49m\u001b[43m,\u001b[49m\n\u001b[0;32m    795\u001b[0m \u001b[43m    \u001b[49m\u001b[43mheaders\u001b[49m\u001b[38;5;241;43m=\u001b[39;49m\u001b[43mheaders\u001b[49m\u001b[43m,\u001b[49m\n\u001b[0;32m    796\u001b[0m \u001b[43m    \u001b[49m\u001b[43mchunked\u001b[49m\u001b[38;5;241;43m=\u001b[39;49m\u001b[43mchunked\u001b[49m\u001b[43m,\u001b[49m\n\u001b[0;32m    797\u001b[0m \u001b[43m    \u001b[49m\u001b[43mretries\u001b[49m\u001b[38;5;241;43m=\u001b[39;49m\u001b[43mretries\u001b[49m\u001b[43m,\u001b[49m\n\u001b[0;32m    798\u001b[0m \u001b[43m    \u001b[49m\u001b[43mresponse_conn\u001b[49m\u001b[38;5;241;43m=\u001b[39;49m\u001b[43mresponse_conn\u001b[49m\u001b[43m,\u001b[49m\n\u001b[0;32m    799\u001b[0m \u001b[43m    \u001b[49m\u001b[43mpreload_content\u001b[49m\u001b[38;5;241;43m=\u001b[39;49m\u001b[43mpreload_content\u001b[49m\u001b[43m,\u001b[49m\n\u001b[0;32m    800\u001b[0m \u001b[43m    \u001b[49m\u001b[43mdecode_content\u001b[49m\u001b[38;5;241;43m=\u001b[39;49m\u001b[43mdecode_content\u001b[49m\u001b[43m,\u001b[49m\n\u001b[0;32m    801\u001b[0m \u001b[43m    \u001b[49m\u001b[38;5;241;43m*\u001b[39;49m\u001b[38;5;241;43m*\u001b[39;49m\u001b[43mresponse_kw\u001b[49m\u001b[43m,\u001b[49m\n\u001b[0;32m    802\u001b[0m \u001b[43m\u001b[49m\u001b[43m)\u001b[49m\n\u001b[0;32m    804\u001b[0m \u001b[38;5;66;03m# Everything went great!\u001b[39;00m\n",
            "File \u001b[1;32mc:\\Users\\iyked\\Documents\\WORK_FOLDER\\fpl-manager\\venv\\Lib\\site-packages\\urllib3\\connectionpool.py:536\u001b[0m, in \u001b[0;36mHTTPConnectionPool._make_request\u001b[1;34m(self, conn, method, url, body, headers, retries, timeout, chunked, response_conn, preload_content, decode_content, enforce_content_length)\u001b[0m\n\u001b[0;32m    535\u001b[0m \u001b[38;5;28;01mtry\u001b[39;00m:\n\u001b[1;32m--> 536\u001b[0m     response \u001b[38;5;241m=\u001b[39m \u001b[43mconn\u001b[49m\u001b[38;5;241;43m.\u001b[39;49m\u001b[43mgetresponse\u001b[49m\u001b[43m(\u001b[49m\u001b[43m)\u001b[49m\n\u001b[0;32m    537\u001b[0m \u001b[38;5;28;01mexcept\u001b[39;00m (BaseSSLError, \u001b[38;5;167;01mOSError\u001b[39;00m) \u001b[38;5;28;01mas\u001b[39;00m e:\n",
            "File \u001b[1;32mc:\\Users\\iyked\\Documents\\WORK_FOLDER\\fpl-manager\\venv\\Lib\\site-packages\\urllib3\\connection.py:464\u001b[0m, in \u001b[0;36mHTTPConnection.getresponse\u001b[1;34m(self)\u001b[0m\n\u001b[0;32m    463\u001b[0m \u001b[38;5;66;03m# Get the response from http.client.HTTPConnection\u001b[39;00m\n\u001b[1;32m--> 464\u001b[0m httplib_response \u001b[38;5;241m=\u001b[39m \u001b[38;5;28;43msuper\u001b[39;49m\u001b[43m(\u001b[49m\u001b[43m)\u001b[49m\u001b[38;5;241;43m.\u001b[39;49m\u001b[43mgetresponse\u001b[49m\u001b[43m(\u001b[49m\u001b[43m)\u001b[49m\n\u001b[0;32m    466\u001b[0m \u001b[38;5;28;01mtry\u001b[39;00m:\n",
            "File \u001b[1;32m~\\AppData\\Local\\Programs\\Python\\Python312\\Lib\\http\\client.py:1428\u001b[0m, in \u001b[0;36mHTTPConnection.getresponse\u001b[1;34m(self)\u001b[0m\n\u001b[0;32m   1427\u001b[0m \u001b[38;5;28;01mtry\u001b[39;00m:\n\u001b[1;32m-> 1428\u001b[0m     \u001b[43mresponse\u001b[49m\u001b[38;5;241;43m.\u001b[39;49m\u001b[43mbegin\u001b[49m\u001b[43m(\u001b[49m\u001b[43m)\u001b[49m\n\u001b[0;32m   1429\u001b[0m \u001b[38;5;28;01mexcept\u001b[39;00m \u001b[38;5;167;01mConnectionError\u001b[39;00m:\n",
            "File \u001b[1;32m~\\AppData\\Local\\Programs\\Python\\Python312\\Lib\\http\\client.py:331\u001b[0m, in \u001b[0;36mHTTPResponse.begin\u001b[1;34m(self)\u001b[0m\n\u001b[0;32m    330\u001b[0m \u001b[38;5;28;01mwhile\u001b[39;00m \u001b[38;5;28;01mTrue\u001b[39;00m:\n\u001b[1;32m--> 331\u001b[0m     version, status, reason \u001b[38;5;241m=\u001b[39m \u001b[38;5;28;43mself\u001b[39;49m\u001b[38;5;241;43m.\u001b[39;49m\u001b[43m_read_status\u001b[49m\u001b[43m(\u001b[49m\u001b[43m)\u001b[49m\n\u001b[0;32m    332\u001b[0m     \u001b[38;5;28;01mif\u001b[39;00m status \u001b[38;5;241m!=\u001b[39m CONTINUE:\n",
            "File \u001b[1;32m~\\AppData\\Local\\Programs\\Python\\Python312\\Lib\\http\\client.py:300\u001b[0m, in \u001b[0;36mHTTPResponse._read_status\u001b[1;34m(self)\u001b[0m\n\u001b[0;32m    297\u001b[0m \u001b[38;5;28;01mif\u001b[39;00m \u001b[38;5;129;01mnot\u001b[39;00m line:\n\u001b[0;32m    298\u001b[0m     \u001b[38;5;66;03m# Presumably, the server closed the connection before\u001b[39;00m\n\u001b[0;32m    299\u001b[0m     \u001b[38;5;66;03m# sending a valid response.\u001b[39;00m\n\u001b[1;32m--> 300\u001b[0m     \u001b[38;5;28;01mraise\u001b[39;00m RemoteDisconnected(\u001b[38;5;124m\"\u001b[39m\u001b[38;5;124mRemote end closed connection without\u001b[39m\u001b[38;5;124m\"\u001b[39m\n\u001b[0;32m    301\u001b[0m                              \u001b[38;5;124m\"\u001b[39m\u001b[38;5;124m response\u001b[39m\u001b[38;5;124m\"\u001b[39m)\n\u001b[0;32m    302\u001b[0m \u001b[38;5;28;01mtry\u001b[39;00m:\n",
            "\u001b[1;31mRemoteDisconnected\u001b[0m: Remote end closed connection without response",
            "\nDuring handling of the above exception, another exception occurred:\n",
            "\u001b[1;31mProtocolError\u001b[0m                             Traceback (most recent call last)",
            "File \u001b[1;32mc:\\Users\\iyked\\Documents\\WORK_FOLDER\\fpl-manager\\venv\\Lib\\site-packages\\requests\\adapters.py:667\u001b[0m, in \u001b[0;36mHTTPAdapter.send\u001b[1;34m(self, request, stream, timeout, verify, cert, proxies)\u001b[0m\n\u001b[0;32m    666\u001b[0m \u001b[38;5;28;01mtry\u001b[39;00m:\n\u001b[1;32m--> 667\u001b[0m     resp \u001b[38;5;241m=\u001b[39m \u001b[43mconn\u001b[49m\u001b[38;5;241;43m.\u001b[39;49m\u001b[43murlopen\u001b[49m\u001b[43m(\u001b[49m\n\u001b[0;32m    668\u001b[0m \u001b[43m        \u001b[49m\u001b[43mmethod\u001b[49m\u001b[38;5;241;43m=\u001b[39;49m\u001b[43mrequest\u001b[49m\u001b[38;5;241;43m.\u001b[39;49m\u001b[43mmethod\u001b[49m\u001b[43m,\u001b[49m\n\u001b[0;32m    669\u001b[0m \u001b[43m        \u001b[49m\u001b[43murl\u001b[49m\u001b[38;5;241;43m=\u001b[39;49m\u001b[43murl\u001b[49m\u001b[43m,\u001b[49m\n\u001b[0;32m    670\u001b[0m \u001b[43m        \u001b[49m\u001b[43mbody\u001b[49m\u001b[38;5;241;43m=\u001b[39;49m\u001b[43mrequest\u001b[49m\u001b[38;5;241;43m.\u001b[39;49m\u001b[43mbody\u001b[49m\u001b[43m,\u001b[49m\n\u001b[0;32m    671\u001b[0m \u001b[43m        \u001b[49m\u001b[43mheaders\u001b[49m\u001b[38;5;241;43m=\u001b[39;49m\u001b[43mrequest\u001b[49m\u001b[38;5;241;43m.\u001b[39;49m\u001b[43mheaders\u001b[49m\u001b[43m,\u001b[49m\n\u001b[0;32m    672\u001b[0m \u001b[43m        \u001b[49m\u001b[43mredirect\u001b[49m\u001b[38;5;241;43m=\u001b[39;49m\u001b[38;5;28;43;01mFalse\u001b[39;49;00m\u001b[43m,\u001b[49m\n\u001b[0;32m    673\u001b[0m \u001b[43m        \u001b[49m\u001b[43massert_same_host\u001b[49m\u001b[38;5;241;43m=\u001b[39;49m\u001b[38;5;28;43;01mFalse\u001b[39;49;00m\u001b[43m,\u001b[49m\n\u001b[0;32m    674\u001b[0m \u001b[43m        \u001b[49m\u001b[43mpreload_content\u001b[49m\u001b[38;5;241;43m=\u001b[39;49m\u001b[38;5;28;43;01mFalse\u001b[39;49;00m\u001b[43m,\u001b[49m\n\u001b[0;32m    675\u001b[0m \u001b[43m        \u001b[49m\u001b[43mdecode_content\u001b[49m\u001b[38;5;241;43m=\u001b[39;49m\u001b[38;5;28;43;01mFalse\u001b[39;49;00m\u001b[43m,\u001b[49m\n\u001b[0;32m    676\u001b[0m \u001b[43m        \u001b[49m\u001b[43mretries\u001b[49m\u001b[38;5;241;43m=\u001b[39;49m\u001b[38;5;28;43mself\u001b[39;49m\u001b[38;5;241;43m.\u001b[39;49m\u001b[43mmax_retries\u001b[49m\u001b[43m,\u001b[49m\n\u001b[0;32m    677\u001b[0m \u001b[43m        \u001b[49m\u001b[43mtimeout\u001b[49m\u001b[38;5;241;43m=\u001b[39;49m\u001b[43mtimeout\u001b[49m\u001b[43m,\u001b[49m\n\u001b[0;32m    678\u001b[0m \u001b[43m        \u001b[49m\u001b[43mchunked\u001b[49m\u001b[38;5;241;43m=\u001b[39;49m\u001b[43mchunked\u001b[49m\u001b[43m,\u001b[49m\n\u001b[0;32m    679\u001b[0m \u001b[43m    \u001b[49m\u001b[43m)\u001b[49m\n\u001b[0;32m    681\u001b[0m \u001b[38;5;28;01mexcept\u001b[39;00m (ProtocolError, \u001b[38;5;167;01mOSError\u001b[39;00m) \u001b[38;5;28;01mas\u001b[39;00m err:\n",
            "File \u001b[1;32mc:\\Users\\iyked\\Documents\\WORK_FOLDER\\fpl-manager\\venv\\Lib\\site-packages\\urllib3\\connectionpool.py:843\u001b[0m, in \u001b[0;36mHTTPConnectionPool.urlopen\u001b[1;34m(self, method, url, body, headers, retries, redirect, assert_same_host, timeout, pool_timeout, release_conn, chunked, body_pos, preload_content, decode_content, **response_kw)\u001b[0m\n\u001b[0;32m    841\u001b[0m     new_e \u001b[38;5;241m=\u001b[39m ProtocolError(\u001b[38;5;124m\"\u001b[39m\u001b[38;5;124mConnection aborted.\u001b[39m\u001b[38;5;124m\"\u001b[39m, new_e)\n\u001b[1;32m--> 843\u001b[0m retries \u001b[38;5;241m=\u001b[39m \u001b[43mretries\u001b[49m\u001b[38;5;241;43m.\u001b[39;49m\u001b[43mincrement\u001b[49m\u001b[43m(\u001b[49m\n\u001b[0;32m    844\u001b[0m \u001b[43m    \u001b[49m\u001b[43mmethod\u001b[49m\u001b[43m,\u001b[49m\u001b[43m \u001b[49m\u001b[43murl\u001b[49m\u001b[43m,\u001b[49m\u001b[43m \u001b[49m\u001b[43merror\u001b[49m\u001b[38;5;241;43m=\u001b[39;49m\u001b[43mnew_e\u001b[49m\u001b[43m,\u001b[49m\u001b[43m \u001b[49m\u001b[43m_pool\u001b[49m\u001b[38;5;241;43m=\u001b[39;49m\u001b[38;5;28;43mself\u001b[39;49m\u001b[43m,\u001b[49m\u001b[43m \u001b[49m\u001b[43m_stacktrace\u001b[49m\u001b[38;5;241;43m=\u001b[39;49m\u001b[43msys\u001b[49m\u001b[38;5;241;43m.\u001b[39;49m\u001b[43mexc_info\u001b[49m\u001b[43m(\u001b[49m\u001b[43m)\u001b[49m\u001b[43m[\u001b[49m\u001b[38;5;241;43m2\u001b[39;49m\u001b[43m]\u001b[49m\n\u001b[0;32m    845\u001b[0m \u001b[43m\u001b[49m\u001b[43m)\u001b[49m\n\u001b[0;32m    846\u001b[0m retries\u001b[38;5;241m.\u001b[39msleep()\n",
            "File \u001b[1;32mc:\\Users\\iyked\\Documents\\WORK_FOLDER\\fpl-manager\\venv\\Lib\\site-packages\\urllib3\\util\\retry.py:474\u001b[0m, in \u001b[0;36mRetry.increment\u001b[1;34m(self, method, url, response, error, _pool, _stacktrace)\u001b[0m\n\u001b[0;32m    473\u001b[0m \u001b[38;5;28;01mif\u001b[39;00m read \u001b[38;5;129;01mis\u001b[39;00m \u001b[38;5;28;01mFalse\u001b[39;00m \u001b[38;5;129;01mor\u001b[39;00m method \u001b[38;5;129;01mis\u001b[39;00m \u001b[38;5;28;01mNone\u001b[39;00m \u001b[38;5;129;01mor\u001b[39;00m \u001b[38;5;129;01mnot\u001b[39;00m \u001b[38;5;28mself\u001b[39m\u001b[38;5;241m.\u001b[39m_is_method_retryable(method):\n\u001b[1;32m--> 474\u001b[0m     \u001b[38;5;28;01mraise\u001b[39;00m \u001b[43mreraise\u001b[49m\u001b[43m(\u001b[49m\u001b[38;5;28;43mtype\u001b[39;49m\u001b[43m(\u001b[49m\u001b[43merror\u001b[49m\u001b[43m)\u001b[49m\u001b[43m,\u001b[49m\u001b[43m \u001b[49m\u001b[43merror\u001b[49m\u001b[43m,\u001b[49m\u001b[43m \u001b[49m\u001b[43m_stacktrace\u001b[49m\u001b[43m)\u001b[49m\n\u001b[0;32m    475\u001b[0m \u001b[38;5;28;01melif\u001b[39;00m read \u001b[38;5;129;01mis\u001b[39;00m \u001b[38;5;129;01mnot\u001b[39;00m \u001b[38;5;28;01mNone\u001b[39;00m:\n",
            "File \u001b[1;32mc:\\Users\\iyked\\Documents\\WORK_FOLDER\\fpl-manager\\venv\\Lib\\site-packages\\urllib3\\util\\util.py:38\u001b[0m, in \u001b[0;36mreraise\u001b[1;34m(tp, value, tb)\u001b[0m\n\u001b[0;32m     37\u001b[0m \u001b[38;5;28;01mif\u001b[39;00m value\u001b[38;5;241m.\u001b[39m__traceback__ \u001b[38;5;129;01mis\u001b[39;00m \u001b[38;5;129;01mnot\u001b[39;00m tb:\n\u001b[1;32m---> 38\u001b[0m     \u001b[38;5;28;01mraise\u001b[39;00m value\u001b[38;5;241m.\u001b[39mwith_traceback(tb)\n\u001b[0;32m     39\u001b[0m \u001b[38;5;28;01mraise\u001b[39;00m value\n",
            "File \u001b[1;32mc:\\Users\\iyked\\Documents\\WORK_FOLDER\\fpl-manager\\venv\\Lib\\site-packages\\urllib3\\connectionpool.py:789\u001b[0m, in \u001b[0;36mHTTPConnectionPool.urlopen\u001b[1;34m(self, method, url, body, headers, retries, redirect, assert_same_host, timeout, pool_timeout, release_conn, chunked, body_pos, preload_content, decode_content, **response_kw)\u001b[0m\n\u001b[0;32m    788\u001b[0m \u001b[38;5;66;03m# Make the request on the HTTPConnection object\u001b[39;00m\n\u001b[1;32m--> 789\u001b[0m response \u001b[38;5;241m=\u001b[39m \u001b[38;5;28;43mself\u001b[39;49m\u001b[38;5;241;43m.\u001b[39;49m\u001b[43m_make_request\u001b[49m\u001b[43m(\u001b[49m\n\u001b[0;32m    790\u001b[0m \u001b[43m    \u001b[49m\u001b[43mconn\u001b[49m\u001b[43m,\u001b[49m\n\u001b[0;32m    791\u001b[0m \u001b[43m    \u001b[49m\u001b[43mmethod\u001b[49m\u001b[43m,\u001b[49m\n\u001b[0;32m    792\u001b[0m \u001b[43m    \u001b[49m\u001b[43murl\u001b[49m\u001b[43m,\u001b[49m\n\u001b[0;32m    793\u001b[0m \u001b[43m    \u001b[49m\u001b[43mtimeout\u001b[49m\u001b[38;5;241;43m=\u001b[39;49m\u001b[43mtimeout_obj\u001b[49m\u001b[43m,\u001b[49m\n\u001b[0;32m    794\u001b[0m \u001b[43m    \u001b[49m\u001b[43mbody\u001b[49m\u001b[38;5;241;43m=\u001b[39;49m\u001b[43mbody\u001b[49m\u001b[43m,\u001b[49m\n\u001b[0;32m    795\u001b[0m \u001b[43m    \u001b[49m\u001b[43mheaders\u001b[49m\u001b[38;5;241;43m=\u001b[39;49m\u001b[43mheaders\u001b[49m\u001b[43m,\u001b[49m\n\u001b[0;32m    796\u001b[0m \u001b[43m    \u001b[49m\u001b[43mchunked\u001b[49m\u001b[38;5;241;43m=\u001b[39;49m\u001b[43mchunked\u001b[49m\u001b[43m,\u001b[49m\n\u001b[0;32m    797\u001b[0m \u001b[43m    \u001b[49m\u001b[43mretries\u001b[49m\u001b[38;5;241;43m=\u001b[39;49m\u001b[43mretries\u001b[49m\u001b[43m,\u001b[49m\n\u001b[0;32m    798\u001b[0m \u001b[43m    \u001b[49m\u001b[43mresponse_conn\u001b[49m\u001b[38;5;241;43m=\u001b[39;49m\u001b[43mresponse_conn\u001b[49m\u001b[43m,\u001b[49m\n\u001b[0;32m    799\u001b[0m \u001b[43m    \u001b[49m\u001b[43mpreload_content\u001b[49m\u001b[38;5;241;43m=\u001b[39;49m\u001b[43mpreload_content\u001b[49m\u001b[43m,\u001b[49m\n\u001b[0;32m    800\u001b[0m \u001b[43m    \u001b[49m\u001b[43mdecode_content\u001b[49m\u001b[38;5;241;43m=\u001b[39;49m\u001b[43mdecode_content\u001b[49m\u001b[43m,\u001b[49m\n\u001b[0;32m    801\u001b[0m \u001b[43m    \u001b[49m\u001b[38;5;241;43m*\u001b[39;49m\u001b[38;5;241;43m*\u001b[39;49m\u001b[43mresponse_kw\u001b[49m\u001b[43m,\u001b[49m\n\u001b[0;32m    802\u001b[0m \u001b[43m\u001b[49m\u001b[43m)\u001b[49m\n\u001b[0;32m    804\u001b[0m \u001b[38;5;66;03m# Everything went great!\u001b[39;00m\n",
            "File \u001b[1;32mc:\\Users\\iyked\\Documents\\WORK_FOLDER\\fpl-manager\\venv\\Lib\\site-packages\\urllib3\\connectionpool.py:536\u001b[0m, in \u001b[0;36mHTTPConnectionPool._make_request\u001b[1;34m(self, conn, method, url, body, headers, retries, timeout, chunked, response_conn, preload_content, decode_content, enforce_content_length)\u001b[0m\n\u001b[0;32m    535\u001b[0m \u001b[38;5;28;01mtry\u001b[39;00m:\n\u001b[1;32m--> 536\u001b[0m     response \u001b[38;5;241m=\u001b[39m \u001b[43mconn\u001b[49m\u001b[38;5;241;43m.\u001b[39;49m\u001b[43mgetresponse\u001b[49m\u001b[43m(\u001b[49m\u001b[43m)\u001b[49m\n\u001b[0;32m    537\u001b[0m \u001b[38;5;28;01mexcept\u001b[39;00m (BaseSSLError, \u001b[38;5;167;01mOSError\u001b[39;00m) \u001b[38;5;28;01mas\u001b[39;00m e:\n",
            "File \u001b[1;32mc:\\Users\\iyked\\Documents\\WORK_FOLDER\\fpl-manager\\venv\\Lib\\site-packages\\urllib3\\connection.py:464\u001b[0m, in \u001b[0;36mHTTPConnection.getresponse\u001b[1;34m(self)\u001b[0m\n\u001b[0;32m    463\u001b[0m \u001b[38;5;66;03m# Get the response from http.client.HTTPConnection\u001b[39;00m\n\u001b[1;32m--> 464\u001b[0m httplib_response \u001b[38;5;241m=\u001b[39m \u001b[38;5;28;43msuper\u001b[39;49m\u001b[43m(\u001b[49m\u001b[43m)\u001b[49m\u001b[38;5;241;43m.\u001b[39;49m\u001b[43mgetresponse\u001b[49m\u001b[43m(\u001b[49m\u001b[43m)\u001b[49m\n\u001b[0;32m    466\u001b[0m \u001b[38;5;28;01mtry\u001b[39;00m:\n",
            "File \u001b[1;32m~\\AppData\\Local\\Programs\\Python\\Python312\\Lib\\http\\client.py:1428\u001b[0m, in \u001b[0;36mHTTPConnection.getresponse\u001b[1;34m(self)\u001b[0m\n\u001b[0;32m   1427\u001b[0m \u001b[38;5;28;01mtry\u001b[39;00m:\n\u001b[1;32m-> 1428\u001b[0m     \u001b[43mresponse\u001b[49m\u001b[38;5;241;43m.\u001b[39;49m\u001b[43mbegin\u001b[49m\u001b[43m(\u001b[49m\u001b[43m)\u001b[49m\n\u001b[0;32m   1429\u001b[0m \u001b[38;5;28;01mexcept\u001b[39;00m \u001b[38;5;167;01mConnectionError\u001b[39;00m:\n",
            "File \u001b[1;32m~\\AppData\\Local\\Programs\\Python\\Python312\\Lib\\http\\client.py:331\u001b[0m, in \u001b[0;36mHTTPResponse.begin\u001b[1;34m(self)\u001b[0m\n\u001b[0;32m    330\u001b[0m \u001b[38;5;28;01mwhile\u001b[39;00m \u001b[38;5;28;01mTrue\u001b[39;00m:\n\u001b[1;32m--> 331\u001b[0m     version, status, reason \u001b[38;5;241m=\u001b[39m \u001b[38;5;28;43mself\u001b[39;49m\u001b[38;5;241;43m.\u001b[39;49m\u001b[43m_read_status\u001b[49m\u001b[43m(\u001b[49m\u001b[43m)\u001b[49m\n\u001b[0;32m    332\u001b[0m     \u001b[38;5;28;01mif\u001b[39;00m status \u001b[38;5;241m!=\u001b[39m CONTINUE:\n",
            "File \u001b[1;32m~\\AppData\\Local\\Programs\\Python\\Python312\\Lib\\http\\client.py:300\u001b[0m, in \u001b[0;36mHTTPResponse._read_status\u001b[1;34m(self)\u001b[0m\n\u001b[0;32m    297\u001b[0m \u001b[38;5;28;01mif\u001b[39;00m \u001b[38;5;129;01mnot\u001b[39;00m line:\n\u001b[0;32m    298\u001b[0m     \u001b[38;5;66;03m# Presumably, the server closed the connection before\u001b[39;00m\n\u001b[0;32m    299\u001b[0m     \u001b[38;5;66;03m# sending a valid response.\u001b[39;00m\n\u001b[1;32m--> 300\u001b[0m     \u001b[38;5;28;01mraise\u001b[39;00m RemoteDisconnected(\u001b[38;5;124m\"\u001b[39m\u001b[38;5;124mRemote end closed connection without\u001b[39m\u001b[38;5;124m\"\u001b[39m\n\u001b[0;32m    301\u001b[0m                              \u001b[38;5;124m\"\u001b[39m\u001b[38;5;124m response\u001b[39m\u001b[38;5;124m\"\u001b[39m)\n\u001b[0;32m    302\u001b[0m \u001b[38;5;28;01mtry\u001b[39;00m:\n",
            "\u001b[1;31mProtocolError\u001b[0m: ('Connection aborted.', RemoteDisconnected('Remote end closed connection without response'))",
            "\nDuring handling of the above exception, another exception occurred:\n",
            "\u001b[1;31mConnectionError\u001b[0m                           Traceback (most recent call last)",
            "Cell \u001b[1;32mIn[12], line 1\u001b[0m\n\u001b[1;32m----> 1\u001b[0m response \u001b[38;5;241m=\u001b[39m \u001b[43msession\u001b[49m\u001b[38;5;241;43m.\u001b[39;49m\u001b[43mget\u001b[49m\u001b[43m(\u001b[49m\u001b[38;5;124;43m'\u001b[39;49m\u001b[38;5;124;43mhttps://fantasy.premierleague.com/api/me\u001b[39;49m\u001b[38;5;124;43m'\u001b[39;49m\u001b[43m)\u001b[49m\n\u001b[0;32m      2\u001b[0m \u001b[38;5;28mprint\u001b[39m(response\u001b[38;5;241m.\u001b[39mtext)\n",
            "File \u001b[1;32mc:\\Users\\iyked\\Documents\\WORK_FOLDER\\fpl-manager\\venv\\Lib\\site-packages\\requests\\sessions.py:602\u001b[0m, in \u001b[0;36mSession.get\u001b[1;34m(self, url, **kwargs)\u001b[0m\n\u001b[0;32m    594\u001b[0m \u001b[38;5;250m\u001b[39m\u001b[38;5;124mr\u001b[39m\u001b[38;5;124;03m\"\"\"Sends a GET request. Returns :class:`Response` object.\u001b[39;00m\n\u001b[0;32m    595\u001b[0m \n\u001b[0;32m    596\u001b[0m \u001b[38;5;124;03m:param url: URL for the new :class:`Request` object.\u001b[39;00m\n\u001b[0;32m    597\u001b[0m \u001b[38;5;124;03m:param \\*\\*kwargs: Optional arguments that ``request`` takes.\u001b[39;00m\n\u001b[0;32m    598\u001b[0m \u001b[38;5;124;03m:rtype: requests.Response\u001b[39;00m\n\u001b[0;32m    599\u001b[0m \u001b[38;5;124;03m\"\"\"\u001b[39;00m\n\u001b[0;32m    601\u001b[0m kwargs\u001b[38;5;241m.\u001b[39msetdefault(\u001b[38;5;124m\"\u001b[39m\u001b[38;5;124mallow_redirects\u001b[39m\u001b[38;5;124m\"\u001b[39m, \u001b[38;5;28;01mTrue\u001b[39;00m)\n\u001b[1;32m--> 602\u001b[0m \u001b[38;5;28;01mreturn\u001b[39;00m \u001b[38;5;28;43mself\u001b[39;49m\u001b[38;5;241;43m.\u001b[39;49m\u001b[43mrequest\u001b[49m\u001b[43m(\u001b[49m\u001b[38;5;124;43m\"\u001b[39;49m\u001b[38;5;124;43mGET\u001b[39;49m\u001b[38;5;124;43m\"\u001b[39;49m\u001b[43m,\u001b[49m\u001b[43m \u001b[49m\u001b[43murl\u001b[49m\u001b[43m,\u001b[49m\u001b[43m \u001b[49m\u001b[38;5;241;43m*\u001b[39;49m\u001b[38;5;241;43m*\u001b[39;49m\u001b[43mkwargs\u001b[49m\u001b[43m)\u001b[49m\n",
            "File \u001b[1;32mc:\\Users\\iyked\\Documents\\WORK_FOLDER\\fpl-manager\\venv\\Lib\\site-packages\\requests\\sessions.py:589\u001b[0m, in \u001b[0;36mSession.request\u001b[1;34m(self, method, url, params, data, headers, cookies, files, auth, timeout, allow_redirects, proxies, hooks, stream, verify, cert, json)\u001b[0m\n\u001b[0;32m    584\u001b[0m send_kwargs \u001b[38;5;241m=\u001b[39m {\n\u001b[0;32m    585\u001b[0m     \u001b[38;5;124m\"\u001b[39m\u001b[38;5;124mtimeout\u001b[39m\u001b[38;5;124m\"\u001b[39m: timeout,\n\u001b[0;32m    586\u001b[0m     \u001b[38;5;124m\"\u001b[39m\u001b[38;5;124mallow_redirects\u001b[39m\u001b[38;5;124m\"\u001b[39m: allow_redirects,\n\u001b[0;32m    587\u001b[0m }\n\u001b[0;32m    588\u001b[0m send_kwargs\u001b[38;5;241m.\u001b[39mupdate(settings)\n\u001b[1;32m--> 589\u001b[0m resp \u001b[38;5;241m=\u001b[39m \u001b[38;5;28;43mself\u001b[39;49m\u001b[38;5;241;43m.\u001b[39;49m\u001b[43msend\u001b[49m\u001b[43m(\u001b[49m\u001b[43mprep\u001b[49m\u001b[43m,\u001b[49m\u001b[43m \u001b[49m\u001b[38;5;241;43m*\u001b[39;49m\u001b[38;5;241;43m*\u001b[39;49m\u001b[43msend_kwargs\u001b[49m\u001b[43m)\u001b[49m\n\u001b[0;32m    591\u001b[0m \u001b[38;5;28;01mreturn\u001b[39;00m resp\n",
            "File \u001b[1;32mc:\\Users\\iyked\\Documents\\WORK_FOLDER\\fpl-manager\\venv\\Lib\\site-packages\\requests\\sessions.py:703\u001b[0m, in \u001b[0;36mSession.send\u001b[1;34m(self, request, **kwargs)\u001b[0m\n\u001b[0;32m    700\u001b[0m start \u001b[38;5;241m=\u001b[39m preferred_clock()\n\u001b[0;32m    702\u001b[0m \u001b[38;5;66;03m# Send the request\u001b[39;00m\n\u001b[1;32m--> 703\u001b[0m r \u001b[38;5;241m=\u001b[39m \u001b[43madapter\u001b[49m\u001b[38;5;241;43m.\u001b[39;49m\u001b[43msend\u001b[49m\u001b[43m(\u001b[49m\u001b[43mrequest\u001b[49m\u001b[43m,\u001b[49m\u001b[43m \u001b[49m\u001b[38;5;241;43m*\u001b[39;49m\u001b[38;5;241;43m*\u001b[39;49m\u001b[43mkwargs\u001b[49m\u001b[43m)\u001b[49m\n\u001b[0;32m    705\u001b[0m \u001b[38;5;66;03m# Total elapsed time of the request (approximately)\u001b[39;00m\n\u001b[0;32m    706\u001b[0m elapsed \u001b[38;5;241m=\u001b[39m preferred_clock() \u001b[38;5;241m-\u001b[39m start\n",
            "File \u001b[1;32mc:\\Users\\iyked\\Documents\\WORK_FOLDER\\fpl-manager\\venv\\Lib\\site-packages\\requests\\adapters.py:682\u001b[0m, in \u001b[0;36mHTTPAdapter.send\u001b[1;34m(self, request, stream, timeout, verify, cert, proxies)\u001b[0m\n\u001b[0;32m    667\u001b[0m     resp \u001b[38;5;241m=\u001b[39m conn\u001b[38;5;241m.\u001b[39murlopen(\n\u001b[0;32m    668\u001b[0m         method\u001b[38;5;241m=\u001b[39mrequest\u001b[38;5;241m.\u001b[39mmethod,\n\u001b[0;32m    669\u001b[0m         url\u001b[38;5;241m=\u001b[39murl,\n\u001b[1;32m   (...)\u001b[0m\n\u001b[0;32m    678\u001b[0m         chunked\u001b[38;5;241m=\u001b[39mchunked,\n\u001b[0;32m    679\u001b[0m     )\n\u001b[0;32m    681\u001b[0m \u001b[38;5;28;01mexcept\u001b[39;00m (ProtocolError, \u001b[38;5;167;01mOSError\u001b[39;00m) \u001b[38;5;28;01mas\u001b[39;00m err:\n\u001b[1;32m--> 682\u001b[0m     \u001b[38;5;28;01mraise\u001b[39;00m \u001b[38;5;167;01mConnectionError\u001b[39;00m(err, request\u001b[38;5;241m=\u001b[39mrequest)\n\u001b[0;32m    684\u001b[0m \u001b[38;5;28;01mexcept\u001b[39;00m MaxRetryError \u001b[38;5;28;01mas\u001b[39;00m e:\n\u001b[0;32m    685\u001b[0m     \u001b[38;5;28;01mif\u001b[39;00m \u001b[38;5;28misinstance\u001b[39m(e\u001b[38;5;241m.\u001b[39mreason, ConnectTimeoutError):\n\u001b[0;32m    686\u001b[0m         \u001b[38;5;66;03m# TODO: Remove this in 3.0.0: see #2811\u001b[39;00m\n",
            "\u001b[1;31mConnectionError\u001b[0m: ('Connection aborted.', RemoteDisconnected('Remote end closed connection without response'))"
          ]
        }
      ],
      "source": [
        "response = session.get('https://fantasy.premierleague.com/api/me')\n",
        "print(response.text)"
      ]
    },
    {
      "cell_type": "code",
      "execution_count": 14,
      "metadata": {
        "id": "4zDPtbCu8w7q"
      },
      "outputs": [],
      "source": [
        "def  map_selected_picks(picks,players):\n",
        "        picked_players = []\n",
        "        for pick in picks:\n",
        "            # Find the player with the matching id\n",
        "            player = next((player for player in players if player[\"id\"] == pick[\"element\"]), None)\n",
        "            if player:\n",
        "                picked_players.append(player)\n",
        "\n",
        "        return picked_players"
      ]
    },
    {
      "cell_type": "code",
      "execution_count": 15,
      "metadata": {
        "id": "EGZCHq0x85vB"
      },
      "outputs": [],
      "source": [
        "all_players=session.get('https://fantasy.premierleague.com/api/bootstrap-static/')\n",
        "all_players=all_players.json()"
      ]
    },
    {
      "cell_type": "code",
      "execution_count": 16,
      "metadata": {
        "id": "zuwMqaQ-85lI"
      },
      "outputs": [],
      "source": [
        "current_team=map_selected_picks(picks=picks['picks'],players=all_players['elements'])"
      ]
    },
    {
      "cell_type": "code",
      "execution_count": 11,
      "metadata": {
        "id": "aDmC9uTY9JMQ"
      },
      "outputs": [],
      "source": [
        "def select_captain(players):\n",
        "    def calculate_captain_score(player):\n",
        "        # Criteria 1: Form (weight 30%)\n",
        "        form_score = float(player['form']) * 0.3\n",
        "\n",
        "        # Criteria 2: Fixture Difficulty (weight 25%)\n",
        "        fixture_difficulty_score = 1 / (player['opponent_difficulty']) * 0.25 if 'opponent_difficulty' in player else 0\n",
        "\n",
        "        # Criteria 3: Expected Minutes (weight 20%)\n",
        "        minutes_score = (player['minutes'] / 90) * 0.2\n",
        "\n",
        "        # Criteria 4: Set Piece Duties (weight 10%)\n",
        "        set_piece_score = 0.1 if player['penalties_order'] else 0\n",
        "\n",
        "        # Criteria 5: ICT Index (weight 10%)\n",
        "        ict_index_score = float(player['ict_index']) * 0.2\n",
        "\n",
        "        # Total Captain Score\n",
        "        total_score = form_score + fixture_difficulty_score + minutes_score + set_piece_score + ict_index_score\n",
        "        return total_score\n",
        "\n",
        "    # Iterate through players and calculate their captain score\n",
        "    captain_scores = []\n",
        "    for player in players:\n",
        "        score = calculate_captain_score(player)\n",
        "        captain_scores.append((player['web_name'], score))\n",
        "\n",
        "    # Select player with the highest score\n",
        "    captain_scores.sort(key=lambda x: x[1], reverse=True)\n",
        "    best_captain = captain_scores[:3]\n",
        "\n",
        "    return best_captain"
      ]
    },
    {
      "cell_type": "code",
      "execution_count": 12,
      "metadata": {
        "colab": {
          "base_uri": "https://localhost:8080/"
        },
        "id": "wWvs_Wiz_lBm",
        "outputId": "8e70e0a1-c3a8-429e-9b96-95b8e4bdea4d"
      },
      "outputs": [
        {
          "name": "stdout",
          "output_type": "stream",
          "text": [
            "[('Muniz', 0.3088888888888889), ('M.Salah', 0.1), ('Isak', 0.1)]\n"
          ]
        }
      ],
      "source": [
        "best_captain = select_captain(current_team)\n",
        "print(best_captain)"
      ]
    },
    {
      "cell_type": "code",
      "execution_count": 13,
      "metadata": {
        "colab": {
          "base_uri": "https://localhost:8080/"
        },
        "id": "9H_rfMRgCN1g",
        "outputId": "75658db5-048c-4a8a-a060-554171115be2"
      },
      "outputs": [
        {
          "name": "stdout",
          "output_type": "stream",
          "text": [
            "Players to consider transferring out:\n",
            "Pickford - Form: 0.0, Status: a, Minutes: 0, Cost: 50\n",
            "Mykolenko - Form: 0.0, Status: a, Minutes: 0, Cost: 45\n",
            "Gvardiol - Form: 0.0, Status: a, Minutes: 0, Cost: 60\n",
            "Alexander-Arnold - Form: 0.0, Status: a, Minutes: 0, Cost: 70\n",
            "Hudson-Odoi - Form: 0.0, Status: a, Minutes: 0, Cost: 55\n",
            "Sancho - Form: 0.0, Status: a, Minutes: 0, Cost: 65\n",
            "M.Salah - Form: 0.0, Status: a, Minutes: 0, Cost: 125\n"
          ]
        }
      ],
      "source": [
        "def suggest_transfers_out(players, budget, max_transfers=7):\n",
        "    transfers_out = []\n",
        "\n",
        "    for player in players:\n",
        "        # Criteria 1: Low Form\n",
        "        if float(player['form']) < 2.0:\n",
        "            transfers_out.append(player)\n",
        "            continue\n",
        "\n",
        "        # Criteria 2: Injury or Suspension\n",
        "        if player['status'] in ['d', 'i', 's']:\n",
        "            transfers_out.append(player)\n",
        "            continue\n",
        "\n",
        "        # Criteria 3: Lack of Minutes\n",
        "        if player['minutes'] < 90:\n",
        "            transfers_out.append(player)\n",
        "            continue\n",
        "\n",
        "        # Criteria 4: Fixture Difficulty\n",
        "        if 'upcoming_fixtures' in player:\n",
        "            avg_difficulty = sum(player['upcoming_fixtures']) / len(player['upcoming_fixtures'])\n",
        "            if avg_difficulty > 3.5:  # Assume difficulty is rated 1-5\n",
        "                transfers_out.append(player)\n",
        "                continue\n",
        "\n",
        "        # Criteria 5: Ownership and Value\n",
        "        if float(player['selected_by_percent']) < 5.0 and player['now_cost'] > 70:\n",
        "            transfers_out.append(player)\n",
        "\n",
        "    # Ensure we don't exceed the maximum number of transfers\n",
        "    transfers_out = sorted(transfers_out, key=lambda x: float(x['form']))[:max_transfers]\n",
        "\n",
        "    return transfers_out\n",
        "\n",
        "\n",
        "# Suggest players to transfer out\n",
        "budget = 1000  # Example budget\n",
        "transfers_out = suggest_transfers_out(current_team, budget)\n",
        "\n",
        "print(\"Players to consider transferring out:\")\n",
        "for player in transfers_out:\n",
        "    print(f\"{player['web_name']} - Form: {player['form']}, Status: {player['status']}, Minutes: {player['minutes']}, Cost: {player['now_cost']}\")\n"
      ]
    },
    {
      "cell_type": "code",
      "execution_count": 14,
      "metadata": {
        "colab": {
          "base_uri": "https://localhost:8080/"
        },
        "id": "Re0NjuxeC3DR",
        "outputId": "513a63ad-60db-41b0-d1d5-80ee1facb783"
      },
      "outputs": [
        {
          "name": "stdout",
          "output_type": "stream",
          "text": [
            "Transfer Suggestions:\n",
            "Transfer Out: Fábio Vieira (Form: 0.0, Cost: 55)\n",
            "Replacement: Son (Form: 10.0, Cost: 100)\n",
            "---\n",
            "Transfer Out: G. Jesus (Form: 0.0, Cost: 70)\n",
            "Replacement: Isak (Form: 8.0, Cost: 70)\n",
            "---\n"
          ]
        }
      ],
      "source": [
        "def identify_transfer_out(picks, players):\n",
        "    transfer_out_candidates = []\n",
        "\n",
        "    for pick in picks:\n",
        "        player = next((p for p in players if p['id'] == pick['element']), None)\n",
        "\n",
        "        if player:\n",
        "            # Criteria to identify players to transfer out\n",
        "            if float(player['form']) < 2.0 or player['status'] != 'a' or sum(player['upcoming_fixtures']) > 10:\n",
        "                transfer_out_candidates.append(player)\n",
        "\n",
        "    return transfer_out_candidates\n",
        "\n",
        "def suggest_replacements(players_out, available_players, budget_remaining):\n",
        "    replacements = []\n",
        "\n",
        "    for player_out in players_out:\n",
        "        # Filter available players by position\n",
        "        possible_replacements = [p for p in available_players if p['element_type'] == player_out['element_type']]\n",
        "\n",
        "        # Further filter by affordability\n",
        "        possible_replacements = [p for p in possible_replacements if p['now_cost'] <= budget_remaining + player_out['now_cost']]\n",
        "\n",
        "        # Sort by form, then by fixture difficulty\n",
        "        possible_replacements = sorted(possible_replacements, key=lambda p: (-float(p['form']), sum(p['upcoming_fixtures'])))\n",
        "\n",
        "        # Pick the top candidate\n",
        "        if possible_replacements:\n",
        "            replacements.append(possible_replacements[0])\n",
        "\n",
        "    return replacements\n",
        "\n",
        "def transfer_suggestions(picks, players, available_players, budget_remaining):\n",
        "    # Identify players to transfer out\n",
        "    players_out = identify_transfer_out(picks, players)\n",
        "\n",
        "    # Suggest replacements for those players\n",
        "    replacements = suggest_replacements(players_out, available_players, budget_remaining)\n",
        "\n",
        "    return list(zip(players_out, replacements))\n",
        "\n",
        "# Example data\n",
        "picks = [\n",
        "    {'element': 1, 'position': 1, 'selling_price': 50, 'multiplier': 1, 'purchase_price': 50, 'is_captain': False, 'is_vice_captain': False},\n",
        "    {'element': 2, 'position': 2, 'selling_price': 45, 'multiplier': 1, 'purchase_price': 45, 'is_captain': False, 'is_vice_captain': False},\n",
        "]\n",
        "\n",
        "players = [\n",
        "    {\n",
        "        \"id\": 1,\n",
        "        \"element_type\": 3,\n",
        "        \"web_name\": \"Fábio Vieira\",\n",
        "        \"form\": \"0.0\",\n",
        "        \"now_cost\": 55,\n",
        "        \"status\": \"d\",\n",
        "        \"upcoming_fixtures\": [4, 4, 5]\n",
        "    },\n",
        "    {\n",
        "        \"id\": 2,\n",
        "        \"element_type\": 4,\n",
        "        \"web_name\": \"G. Jesus\",\n",
        "        \"form\": \"0.0\",\n",
        "        \"now_cost\": 70,\n",
        "        \"status\": \"a\",\n",
        "        \"upcoming_fixtures\": [4, 4, 5]\n",
        "    }\n",
        "]\n",
        "\n",
        "available_players = [\n",
        "    {\"web_name\": \"Saka\", \"form\": \"9.0\", \"element_type\": 3, \"now_cost\": 80, \"upcoming_fixtures\": [2, 2, 2]},\n",
        "    {\"web_name\": \"Martinelli\", \"form\": \"7.0\", \"element_type\": 3, \"now_cost\": 75, \"upcoming_fixtures\": [2, 3, 3]},\n",
        "    {\"web_name\": \"Maddison\", \"form\": \"8.5\", \"element_type\": 3, \"now_cost\": 85, \"upcoming_fixtures\": [3, 3, 2]},\n",
        "    {\"web_name\": \"Wilson\", \"form\": \"7.0\", \"element_type\": 4, \"now_cost\": 75, \"upcoming_fixtures\": [2, 4, 2]},\n",
        "    {\"web_name\": \"Isak\", \"form\": \"8.0\", \"element_type\": 4, \"now_cost\": 70, \"upcoming_fixtures\": [2, 2, 1]},\n",
        "    {\"web_name\": \"Son\", \"form\": \"10.0\", \"element_type\": 3, \"now_cost\": 100, \"upcoming_fixtures\": [2, 2, 2]},\n",
        "]\n",
        "\n",
        "# Budget remaining after transfers out (example)\n",
        "budget_remaining = 100  # Example budget remaining\n",
        "\n",
        "# Get transfer suggestions\n",
        "suggestions = transfer_suggestions(picks, players, available_players, budget_remaining)\n",
        "\n",
        "print(\"Transfer Suggestions:\")\n",
        "for player_out, replacement in suggestions:\n",
        "    print(f\"Transfer Out: {player_out['web_name']} (Form: {player_out['form']}, Cost: {player_out['now_cost']})\")\n",
        "    print(f\"Replacement: {replacement['web_name']} (Form: {replacement['form']}, Cost: {replacement['now_cost']})\")\n",
        "    print(\"---\")\n"
      ]
    },
    {
      "cell_type": "code",
      "execution_count": 15,
      "metadata": {
        "colab": {
          "base_uri": "https://localhost:8080/"
        },
        "id": "YCkApjfMEufV",
        "outputId": "e69f7b60-900e-4fe0-c054-d073e713207a"
      },
      "outputs": [
        {
          "name": "stdout",
          "output_type": "stream",
          "text": [
            "Transfer Suggestions:\n",
            "Transfer Out: Fábio Vieira (Form: 0.0, Cost: 55)\n",
            "Replacement: Son (Form: 10.0, Cost: 100)\n",
            "Remaining Budget After Transfer: 55\n",
            "---\n",
            "Transfer Out: G. Jesus (Form: 0.0, Cost: 70)\n",
            "Replacement: Isak (Form: 8.0, Cost: 70)\n",
            "Remaining Budget After Transfer: 55\n",
            "---\n",
            "Final Budget After All Transfers: 55\n"
          ]
        }
      ],
      "source": [
        "def identify_transfer_out(picks, players):\n",
        "    transfer_out_candidates = []\n",
        "\n",
        "    for pick in picks:\n",
        "        player = next((p for p in players if p['id'] == pick['element']), None)\n",
        "\n",
        "        if player:\n",
        "            # Criteria to identify players to transfer out\n",
        "            if float(player['form']) < 2.0 or player['status'] != 'a' or sum(player['upcoming_fixtures']) > 10:\n",
        "                transfer_out_candidates.append(player)\n",
        "\n",
        "    return transfer_out_candidates\n",
        "\n",
        "def suggest_replacements(players_out, available_players, budget_remaining):\n",
        "    replacements = []\n",
        "\n",
        "    for player_out in players_out:\n",
        "        # Filter available players by position\n",
        "        possible_replacements = [p for p in available_players if p['element_type'] == player_out['element_type']]\n",
        "\n",
        "        # Further filter by affordability\n",
        "        affordable_replacements = [p for p in possible_replacements if p['now_cost'] <= budget_remaining + player_out['now_cost']]\n",
        "\n",
        "        # Sort by form, then by fixture difficulty\n",
        "        affordable_replacements = sorted(affordable_replacements, key=lambda p: (-float(p['form']), sum(p['upcoming_fixtures'])))\n",
        "\n",
        "        # Pick the top candidate\n",
        "        if affordable_replacements:\n",
        "            best_replacement = affordable_replacements[0]\n",
        "            budget_remaining += player_out['now_cost'] - best_replacement['now_cost']\n",
        "            replacements.append((player_out, best_replacement, budget_remaining))\n",
        "\n",
        "    return replacements, budget_remaining\n",
        "\n",
        "def transfer_suggestions(picks, players, available_players, initial_budget):\n",
        "    budget_remaining = initial_budget\n",
        "\n",
        "    # Identify players to transfer out\n",
        "    players_out = identify_transfer_out(picks, players)\n",
        "\n",
        "    # Suggest replacements for those players and update the budget\n",
        "    replacements, final_budget = suggest_replacements(players_out, available_players, budget_remaining)\n",
        "\n",
        "    return replacements, final_budget\n",
        "\n",
        "# Example data\n",
        "picks = [\n",
        "    {'element': 1, 'position': 1, 'selling_price': 50, 'multiplier': 1, 'purchase_price': 50, 'is_captain': False, 'is_vice_captain': False},\n",
        "    {'element': 2, 'position': 2, 'selling_price': 45, 'multiplier': 1, 'purchase_price': 45, 'is_captain': False, 'is_vice_captain': False},\n",
        "]\n",
        "\n",
        "players = [\n",
        "    {\n",
        "        \"id\": 1,\n",
        "        \"element_type\": 3,\n",
        "        \"web_name\": \"Fábio Vieira\",\n",
        "        \"form\": \"0.0\",\n",
        "        \"now_cost\": 55,\n",
        "        \"status\": \"d\",\n",
        "        \"upcoming_fixtures\": [4, 4, 5]\n",
        "    },\n",
        "    {\n",
        "        \"id\": 2,\n",
        "        \"element_type\": 4,\n",
        "        \"web_name\": \"G. Jesus\",\n",
        "        \"form\": \"0.0\",\n",
        "        \"now_cost\": 70,\n",
        "        \"status\": \"a\",\n",
        "        \"upcoming_fixtures\": [4, 4, 5]\n",
        "    }\n",
        "]\n",
        "\n",
        "available_players = [\n",
        "    {\"web_name\": \"Saka\", \"form\": \"9.0\", \"element_type\": 3, \"now_cost\": 80, \"upcoming_fixtures\": [2, 2, 2]},\n",
        "    {\"web_name\": \"Martinelli\", \"form\": \"7.0\", \"element_type\": 3, \"now_cost\": 75, \"upcoming_fixtures\": [2, 3, 3]},\n",
        "    {\"web_name\": \"Maddison\", \"form\": \"8.5\", \"element_type\": 3, \"now_cost\": 85, \"upcoming_fixtures\": [3, 3, 2]},\n",
        "    {\"web_name\": \"Wilson\", \"form\": \"7.0\", \"element_type\": 4, \"now_cost\": 75, \"upcoming_fixtures\": [2, 4, 2]},\n",
        "    {\"web_name\": \"Isak\", \"form\": \"8.0\", \"element_type\": 4, \"now_cost\": 70, \"upcoming_fixtures\": [2, 2, 1]},\n",
        "    {\"web_name\": \"Son\", \"form\": \"10.0\", \"element_type\": 3, \"now_cost\": 100, \"upcoming_fixtures\": [2, 2, 2]},\n",
        "]\n",
        "\n",
        "# Initial budget remaining after transfers out\n",
        "initial_budget = 100  # Example budget remaining\n",
        "\n",
        "# Get transfer suggestions\n",
        "suggestions, final_budget = transfer_suggestions(picks, players, available_players, initial_budget)\n",
        "\n",
        "print(\"Transfer Suggestions:\")\n",
        "for player_out, replacement, budget in suggestions:\n",
        "    print(f\"Transfer Out: {player_out['web_name']} (Form: {player_out['form']}, Cost: {player_out['now_cost']})\")\n",
        "    print(f\"Replacement: {replacement['web_name']} (Form: {replacement['form']}, Cost: {replacement['now_cost']})\")\n",
        "    print(f\"Remaining Budget After Transfer: {budget}\")\n",
        "    print(\"---\")\n",
        "\n",
        "print(f\"Final Budget After All Transfers: {final_budget}\")\n"
      ]
    }
  ],
  "metadata": {
    "colab": {
      "provenance": []
    },
    "kernelspec": {
      "display_name": "Python 3",
      "name": "python3"
    },
    "language_info": {
      "codemirror_mode": {
        "name": "ipython",
        "version": 3
      },
      "file_extension": ".py",
      "mimetype": "text/x-python",
      "name": "python",
      "nbconvert_exporter": "python",
      "pygments_lexer": "ipython3",
      "version": "3.12.3"
    }
  },
  "nbformat": 4,
  "nbformat_minor": 0
}
